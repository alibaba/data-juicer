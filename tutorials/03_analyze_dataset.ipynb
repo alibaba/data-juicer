{
 "cells": [
  {
   "cell_type": "markdown",
   "id": "2def8ab0-a9ac-41a6-ad68-c5c095fa5420",
   "metadata": {},
   "source": [
    "# Analyze Dataset"
   ]
  },
  {
   "cell_type": "markdown",
   "id": "97b68b5c",
   "metadata": {},
   "source": [
    "By using the Analyzer, we can obtain statistical information about the dataset and use these statistics to set parameters.\n",
    "\n",
    "**Note:** Analyzer only computes stats of Filter operators.\n"
   ]
  },
  {
   "cell_type": "code",
   "execution_count": null,
   "id": "632765db",
   "metadata": {
    "vscode": {
     "languageId": "plaintext"
    }
   },
   "outputs": [],
   "source": [
    "# Install data-juicer package if you are NOT in the Playground\n",
    "# !pip3 install py-data-juicer\n",
    "\n",
    "# Or use newest code of data-juicer\n",
    "# !pip install git+https://github.com/modelscope/data-juicer"
   ]
  },
  {
   "cell_type": "markdown",
   "id": "8c27c982",
   "metadata": {},
   "source": [
    "Run `analyze_data.py` tool or `dj-analyze` command line tool with your config as the argument to analyze your dataset.\n",
    "\n",
    "```shell\n",
    "# only for installation from source\n",
    "python tools/analyze_data.py --config your_recipe.yaml\n",
    "\n",
    "# use command line tool\n",
    "dj-analyze --config your_recipe.yaml\n",
    "```"
   ]
  },
  {
   "cell_type": "markdown",
   "id": "ff58daf4",
   "metadata": {},
   "source": [
    "Here, we will show you how to analyze your dataset.\n",
    "\n",
    "**Note:** The preparation of a temporary dataset is solely for demonstration purposes and is not part of the real analysis process."
   ]
  },
  {
   "cell_type": "markdown",
   "id": "d85466cf",
   "metadata": {},
   "source": [
    "Prepare a temporary directory to store input and output data."
   ]
  },
  {
   "cell_type": "code",
   "execution_count": null,
   "id": "698f8116",
   "metadata": {
    "vscode": {
     "languageId": "plaintext"
    }
   },
   "outputs": [],
   "source": [
    "import os\n",
    "import tempfile\n",
    "\n",
    "temp_dir = tempfile.mkdtemp()\n",
    "input_file =  os.path.join(temp_dir,'input.jsonl')\n",
    "output_dir = os.path.join(temp_dir,'processed')\n",
    "os.makedirs(output_dir, exist_ok=True)\n",
    "output_file =  os.path.join(output_dir,'output.jsonl')\n",
    "data_recipe =  os.path.join(temp_dir,'recipe.yaml')"
   ]
  },
  {
   "cell_type": "markdown",
   "id": "d59b81bd",
   "metadata": {},
   "source": [
    "Prepare a temporary data recipe."
   ]
  },
  {
   "cell_type": "code",
   "execution_count": null,
   "id": "95cc9553",
   "metadata": {
    "vscode": {
     "languageId": "plaintext"
    }
   },
   "outputs": [],
   "source": [
    "recipe_str = f\"\"\"\n",
    "project_name: 'test_demo'\n",
    "dataset_path: {input_file}  # path to your dataset directory or file\n",
    "np: 1  # number of subprocess to process your dataset\n",
    "\n",
    "export_path: {output_file}\n",
    "save_stats_in_one_file: true \n",
    "\n",
    "# process schedule\n",
    "# a list of several process operators with their arguments\n",
    "process:\n",
    "  - text_length_filter:                                     # filter text with length out of specific range\n",
    "      min_len: 10                                             # the min length of filter range\n",
    "      max_len: 10000                                          # the max length of filter range\n",
    "\"\"\"\n",
    "\n",
    "with open(data_recipe, 'w') as f:\n",
    "    f.write(recipe_str)"
   ]
  },
  {
   "cell_type": "code",
   "execution_count": null,
   "id": "f9207cf6",
   "metadata": {
    "vscode": {
     "languageId": "plaintext"
    }
   },
   "outputs": [],
   "source": [
    "# load recipe\n",
    "from data_juicer.config import init_configs\n",
    "cfg = init_configs(args=f'--config {data_recipe}'.split())\n",
    "print(cfg.dataset_path)\n",
    "print(cfg.process)"
   ]
  },
  {
   "cell_type": "markdown",
   "id": "abfba93c",
   "metadata": {},
   "source": [
    "Prepare a temporary input dataset."
   ]
  },
  {
   "cell_type": "code",
   "execution_count": null,
   "id": "ebe635b5",
   "metadata": {
    "vscode": {
     "languageId": "plaintext"
    }
   },
   "outputs": [],
   "source": [
    " \n",
    "samples_str = \"\"\"\n",
    "{\"text\": \"Today is Sunday and it's a happy day!\"}\n",
    "{\"text\": \"Do you need a cup of coffee?\"}\n",
    "{\"text\": \"你好，请问你是谁\"}\n",
    "{\"text\": \"Sur la plateforme MT4, plusieurs manières d'accéder à ces fonctionnalités sont conçues simultanément.\"}\n",
    "{\"text\": \"欢迎来到阿里巴巴！\"}\n",
    "{\"text\": \"This paper proposed a novel method on LLM pretraining.\"}\n",
    "\"\"\"\n",
    "\n",
    "with open(input_file, 'w') as f:\n",
    "    f.write(samples_str)"
   ]
  },
  {
   "cell_type": "markdown",
   "id": "0a6190ea",
   "metadata": {},
   "source": [
    "Now that the preparation work is complete, let's begin the analyze the dataset."
   ]
  },
  {
   "cell_type": "code",
   "execution_count": null,
   "id": "173617a0",
   "metadata": {
    "vscode": {
     "languageId": "plaintext"
    }
   },
   "outputs": [],
   "source": [
    "from data_juicer.core import Analyser\n",
    "analyzer = Analyser(cfg)\n",
    "analyzer.run()"
   ]
  },
  {
   "cell_type": "markdown",
   "id": "97489656",
   "metadata": {},
   "source": [
    "After the analysis is complete, we can view the visualized statistical information of the dataset."
   ]
  },
  {
   "cell_type": "code",
   "execution_count": null,
   "id": "7f7c9884",
   "metadata": {
    "vscode": {
     "languageId": "plaintext"
    }
   },
   "outputs": [],
   "source": [
    "import pandas as pd\n",
    "overall_file = os.path.join(analyzer.analysis_path, 'overall.csv')\n",
    "if os.path.exists(overall_file):\n",
    "    analysis_res = pd.read_csv(overall_file)\n",
    "\n",
    "analysis_res"
   ]
  },
  {
   "cell_type": "markdown",
   "id": "1541c1bd",
   "metadata": {},
   "source": [
    "Display the histogram of statistics of dataset"
   ]
  },
  {
   "cell_type": "code",
   "execution_count": null,
   "id": "844a0a5d",
   "metadata": {
    "vscode": {
     "languageId": "plaintext"
    }
   },
   "outputs": [],
   "source": [
    "import matplotlib.pyplot as plt\n",
    "import matplotlib.image as mpimg\n",
    "\n",
    "if os.path.exists(analyzer.analysis_path):\n",
    "    for f_path in os.listdir(analyzer.analysis_path):\n",
    "        if '.png' in f_path and 'all-stats' in f_path:\n",
    "            all_stats = os.path.join(analyzer.analysis_path, f_path)\n",
    "            break\n",
    "\n",
    "img = mpimg.imread(all_stats) \n",
    "plt.imshow(img)\n",
    "plt.show()"
   ]
  },
  {
   "cell_type": "code",
   "execution_count": null,
   "id": "d288a302",
   "metadata": {},
   "outputs": [],
   "source": [
    "# Clean up temporary directory\n",
    "import shutil\n",
    "if os.path.exists(temp_dir):\n",
    "    shutil.rmtree(temp_dir)"
   ]
  }
 ],
 "metadata": {
  "kernelspec": {
   "display_name": "Python 3 (ipykernel)",
   "language": "python",
   "name": "python3"
  },
  "language_info": {
   "codemirror_mode": {
    "name": "ipython",
    "version": 3
   },
   "file_extension": ".py",
   "mimetype": "text/x-python",
   "name": "python",
   "nbconvert_exporter": "python",
   "pygments_lexer": "ipython3",
   "version": "3.10.11"
  }
 },
 "nbformat": 4,
 "nbformat_minor": 5
}
