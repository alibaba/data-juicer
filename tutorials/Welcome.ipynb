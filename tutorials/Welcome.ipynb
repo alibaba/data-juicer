{
 "cells": [
  {
   "cell_type": "markdown",
   "id": "a2c01ca5-be46-4f7f-9e68-1a2c71340482",
   "metadata": {},
   "source": [
    "# Welcome to Data-Juicer Playground"
   ]
  },
  {
   "cell_type": "markdown",
   "id": "3408aac8-acf2-48a1-9495-f9dd00f4e534",
   "metadata": {},
   "source": [
    "Try Data-Juicer directly in your browser! \n",
    "\n",
    "Let's get started with printing \"Hello World\" in Python, just hover the mouse over [ ] and press the play button to the upper left. Or press Shift-Enter to execute."
   ]
  },
  {
   "cell_type": "code",
   "execution_count": null,
   "id": "0e65b8bc-cd1a-4f4b-84af-6509c29f2464",
   "metadata": {
    "execution": {
     "iopub.execute_input": "2024-03-21T08:51:26.924064Z",
     "iopub.status.busy": "2024-03-21T08:51:26.923611Z",
     "iopub.status.idle": "2024-03-21T08:51:26.930759Z",
     "shell.execute_reply": "2024-03-21T08:51:26.930228Z",
     "shell.execute_reply.started": "2024-03-21T08:51:26.924043Z"
    },
    "tags": []
   },
   "outputs": [],
   "source": [
    "print(\"hello world\")"
   ]
  },
  {
   "cell_type": "markdown",
   "id": "6b665ef4-5265-44ec-b8cd-a25eb7c5c783",
   "metadata": {},
   "source": [
    "Next, let's import **Data-Juicer** and have fun! Please note that if you are in the Data-Juicer Playground, the `py-data-jucier` package is \n",
    "preinstalled. Otherwise, you may want to install the package first.\n",
    "\n",
    "During the tutorials, you may create new python files. Please note, The session will automatically expire after `30` minutes. **All files will NOT be saved!**"
   ]
  },
  {
   "cell_type": "code",
   "execution_count": null,
   "id": "2c5f7094",
   "metadata": {},
   "outputs": [],
   "source": [
    "# Install data-juicer package if you are NOT in the Playground\n",
    "!pip3 install py-data-juicer\n",
    "\n",
    "# Or use newest code of data-juicer\n",
    "!pip install git+https://github.com/modelscope/data-juicer"
   ]
  },
  {
   "cell_type": "code",
   "execution_count": 5,
   "id": "4c1a71d7-a2f9-486a-bd94-f3f78a6ec444",
   "metadata": {
    "ExecutionIndicator": {
     "show": true
    },
    "execution": {
     "iopub.execute_input": "2024-03-21T09:02:32.937150Z",
     "iopub.status.busy": "2024-03-21T09:02:32.936484Z",
     "iopub.status.idle": "2024-03-21T09:02:32.940666Z",
     "shell.execute_reply": "2024-03-21T09:02:32.940080Z",
     "shell.execute_reply.started": "2024-03-21T09:02:32.937126Z"
    },
    "tags": []
   },
   "outputs": [
    {
     "name": "stdout",
     "output_type": "stream",
     "text": [
      "0.2.0\n"
     ]
    }
   ],
   "source": [
    "import data_juicer\n",
    "print(data_juicer.__version__)"
   ]
  },
  {
   "cell_type": "markdown",
   "id": "63a9b811-e6c5-4b60-920b-74f661eb89ea",
   "metadata": {},
   "source": [
    "We provides a set of tutorials you can go through the Data-Juicer."
   ]
  },
  {
   "cell_type": "markdown",
   "id": "8b24a129-434b-4fe6-bff8-7ff02befe22a",
   "metadata": {
    "ExecutionIndicator": {
     "show": true
    },
    "execution": {
     "iopub.execute_input": "2024-03-22T02:38:07.382658Z",
     "iopub.status.busy": "2024-03-22T02:38:07.382018Z",
     "iopub.status.idle": "2024-03-22T02:38:07.388465Z",
     "shell.execute_reply": "2024-03-22T02:38:07.387900Z",
     "shell.execute_reply.started": "2024-03-22T02:38:07.382636Z"
    },
    "tags": []
   },
   "source": [
    "## Tutorials\n",
    "\n",
    "* [01. Build Data Recipes](./01_build_data_recipes.ipynb)\n",
    "* [02. Gain Operator Insights](./02_gain_operator_insights.ipynb)\n",
    "* [03. Analyze Dataset](./03_analyze_dataset.ipynb)\n",
    "* [04. Process Dataset](./04_process_dataset.ipynb)\n",
    "* [05. Process Dataset With Distributed Systems](./05_process_dataset_with_distributed_system.ipynb)\n",
    "* [06. Develop A New Operator](./06_develop_a_new_operator.ipynb)\n",
    "* [07. Use Tool Pool](./07_use_tool_pool.ipynb)\n",
    "* [08. Experience More Online Demos](./08_experience_more_online_demos.ipynb)"
   ]
  }
 ],
 "metadata": {
  "kernelspec": {
   "display_name": "Python 3 (ipykernel)",
   "language": "python",
   "name": "python3"
  },
  "language_info": {
   "codemirror_mode": {
    "name": "ipython",
    "version": 3
   },
   "file_extension": ".py",
   "mimetype": "text/x-python",
   "name": "python",
   "nbconvert_exporter": "python",
   "pygments_lexer": "ipython3",
   "version": "3.9.18"
  }
 },
 "nbformat": 4,
 "nbformat_minor": 5
}
