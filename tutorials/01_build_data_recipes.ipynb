{
 "cells": [
  {
   "cell_type": "markdown",
   "id": "91d1da14-3bd0-482e-b215-e1ef55952994",
   "metadata": {},
   "source": [
    "# Build Data Recipes\n",
    "\n",
    "Data-Juicer leverages a `data recipe` in YAML format to orchestrate and streamline the entire data processing pipeline.\n"
   ]
  },
  {
   "cell_type": "markdown",
   "id": "4a435667",
   "metadata": {},
   "source": [
    "Let's begin with the fundamental data recipe format outlined below.\n",
    "\n",
    "  <img src=\"https://img.alicdn.com/imgextra/i1/O1CN01uXgjgj1khWKOigYww_!!6000000004715-0-tps-1745-871.jpg\" alt=\"Basic config example of format and definition\" title=\"Basic config file example\" width=\"60%\" />\n",
    "\n",
    "In this recipe, we can find that it is primarily composed of two parts: \n",
    "- Global arguments\n",
    "- Operator list\n",
    "\n",
    "Next, we'll explore the definitions of these arguments."
   ]
  },
  {
   "cell_type": "markdown",
   "id": "b4663dcf",
   "metadata": {},
   "source": [
    "### Global Arguments\n",
    "  Global arguments typically include a set of required arguments as well as various optional arguments for optimization and debugging purposes.\n",
    "  \n",
    "  Here are the required arguments:\n",
    "\n",
    "| Name                   | Value                          | Description                             |\n",
    "|------------------------|--------------------------------|----------------------------------------------------|\n",
    "| `dataset_path`         | /path/to/your/dataset          | Path to your dataset directory or file |\n",
    "| `export_path`          | /path/to/result/dataset.jsonl  | Path to processed result dataset. Supported suffixes include ['jsonl', 'json', 'parquet']. |\n",
    "| `np`                   | 4                              | Number of subprocesses to process your dataset. |\n",
    "\n",
    "For other optional arguments, please refer to [Optional Arguments](#Optional-Arguments)."
   ]
  },
  {
   "cell_type": "markdown",
   "id": "ae2d97f2",
   "metadata": {},
   "source": [
    "\n",
    "### Operator list\n",
    "\n",
    "Data-Juicer offers an extensive array of operators for data manipulation, encompassing modification, cleansing, filtering, and deduplication tasks.\n",
    "\n",
    "Data recipe must include the necessary operators and their respective arguments for efficient dataset processing. And Data-Juicer will process the operators sequentially as arranged in the provided operation list.\n",
    "\n",
    "A sample of operator list as follows:"
   ]
  },
  {
   "cell_type": "markdown",
   "id": "8f134589",
   "metadata": {},
   "source": [
    "```yaml\n",
    "process:\n",
    "  - clean_email_mapper:           # remove emails from text.\n",
    "  - image_blur_mapper:            # mapper to blur images.\n",
    "      p: 0.2                      # probability of the image being blured\n",
    "      blur_type: 'gaussian'       # type of blur kernel, including ['mean', 'box', 'gaussian']\n",
    "      radius: 2                   # radius of blur kernel\n",
    "  - video_duration_filter:        # Keep data samples whose videos' durations are within a specified range.\n",
    "      min_duration: 0             # the min video duration of filter range (in seconds)\n",
    "      max_duration: 10            # the max video duration of filter range (in seconds)\n",
    "      any_or_all: any             # keep this sample when any/all videos meet the filter condition\n",
    "  - image_deduplicator:           # deduplicate samples using exact matching of images between documents.\n",
    "      method: phash               # hash method for image. One of [phash, dhash, whash, ahash]\n",
    "```"
   ]
  },
  {
   "cell_type": "markdown",
   "id": "1439f2e2",
   "metadata": {},
   "source": [
    "## Build Method\n",
    "There are two approaches to constructing a data recipe.\n",
    "\n",
    "### Customize the Default Configuration File\n",
    "\n",
    "The [`config_all.yaml`](https://github.com/modelscope/data-juicer/blob/main/configs/config_all.yaml) contains all operators and their default arguments. \n",
    "\n",
    "You just need to **remove** ops that you won't use and refine some arguments of ops.\n",
    "\n",
    "### Create a New Configuration from Scratch\n",
    "\n",
    "You can refer our example config file [`config_all.yaml`](https://github.com/modelscope/data-juicer/blob/main/configs/config_all.yaml), [op documents](https://github.com/modelscope/data-juicer/blob/main/docs/Operators.md), and advanced [Build-Up Guide for developers](https://github.com/modelscope/data-juicer/blob/main/docs/DeveloperGuide.md#build-your-own-configs)."
   ]
  },
  {
   "cell_type": "markdown",
   "id": "f9fe8036",
   "metadata": {},
   "source": [
    "## A Demo to Check Data Recipe\n",
    "\n",
    "After constructing a recipe, it can serve as input for an executor or analyzer, or it can be used to perform a preliminary check.\n"
   ]
  },
  {
   "cell_type": "code",
   "execution_count": null,
   "id": "36079964",
   "metadata": {
    "vscode": {
     "languageId": "plaintext"
    }
   },
   "outputs": [],
   "source": [
    "# Install data-juicer package if you are NOT in the Playground\n",
    "!pip3 install py-data-juicer\n",
    "\n",
    "# Or use newest code of data-juicer\n",
    "!pip install git+https://github.com/modelscope/data-juicer"
   ]
  },
  {
   "cell_type": "markdown",
   "id": "deef3ea3",
   "metadata": {},
   "source": [
    "Here, we create a temporary recipe for demonstration purposes.\n"
   ]
  },
  {
   "cell_type": "code",
   "execution_count": null,
   "id": "379f830d",
   "metadata": {
    "vscode": {
     "languageId": "plaintext"
    }
   },
   "outputs": [],
   "source": [
    "import tempfile\n",
    "config_str = \"\"\"\n",
    "project_name: 'test_demo'\n",
    "dataset_path: './demos/data/demo-dataset.jsonl'  # path to your dataset directory or file\n",
    "np: 4  # number of subprocess to process your dataset\n",
    "\n",
    "export_path: './outputs/demo/demo-processed.parquet'\n",
    "\n",
    "# process schedule\n",
    "# a list of several process operators with their arguments\n",
    "process:\n",
    "  - whitespace_normalization_mapper:\n",
    "  - language_id_score_filter:\n",
    "      lang: 'zh'\n",
    "  - document_deduplicator: # deduplicate text samples using md5 hashing exact matching method\n",
    "      lowercase: false   # whether to convert text to lower case\n",
    "      ignore_non_character: false\n",
    "\"\"\"\n",
    "\n",
    "with tempfile.NamedTemporaryFile(mode='w+', delete=False) as recipe:\n",
    "    recipe.write(config_str)\n",
    "    recipe.flush()"
   ]
  },
  {
   "cell_type": "markdown",
   "id": "efbf9d51",
   "metadata": {},
   "source": [
    "Load and check the recipe"
   ]
  },
  {
   "cell_type": "code",
   "execution_count": null,
   "id": "6507f293",
   "metadata": {
    "vscode": {
     "languageId": "plaintext"
    }
   },
   "outputs": [],
   "source": [
    "from data_juicer.config import init_configs\n",
    "cfg = init_configs(args=f'--config {recipe.name}'.split())\n",
    "print(f'np = {cfg.np}')"
   ]
  },
  {
   "cell_type": "markdown",
   "id": "759de22d",
   "metadata": {},
   "source": [
    "Finally we delete the temporary recipe"
   ]
  },
  {
   "cell_type": "code",
   "execution_count": null,
   "id": "de93e925",
   "metadata": {
    "vscode": {
     "languageId": "plaintext"
    }
   },
   "outputs": [],
   "source": [
    "import os\n",
    "if os.path.exists(recipe.name):\n",
    "    os.unlink(recipe.name)"
   ]
  },
  {
   "cell_type": "markdown",
   "id": "c4e4f34c",
   "metadata": {},
   "source": [
    "## Optional Arguments\n",
    "\n",
    "\n",
    "Within the recipe, there are numerous optional arguments available, primarily employed for enhancing system performance, multimodal processing, and tracer functionalities, among others.\n",
    "\n",
    "### Arguments for System Performance\n",
    "\n",
    "These arguments are primarily related to system performance.\n",
    "\n",
    "| Name                   | Value                          | Description                             |\n",
    "|------------------------|--------------------------------|----------------------------------------------------|\n",
    "| `export_shard_size`    | 0                              | Shard size of exported dataset in Byte. |\n",
    "| `export_in_parallel`   | false                          | Whether to export the result dataset in parallel to a single file. |\n",
    "| `use_cache`            | true                           | Whether to use the cache management of Hugging Face datasets. |\n",
    "| `ds_cache_dir`         | null                           | Cache dir for Hugging Face datasets. |\n",
    "| `use_checkpoint`       | false                          | Whether to use checkpoint management to save the latest version of the dataset to the work dir when processing. |\n",
    "| `temp_dir`             | null                           | The path to the temporary directory to store intermediate caches when cache is disabled. |\n",
    "| `op_fusion`            | false                          | Whether to fuse operators that share the same intermediate variables automatically. |\n",
    "| `cache_compress`       | null                           | The compression method of the cache file. |\n",
    "| `save_stats_in_one_file`| false                         | Whether to store all stats results into one file. |\n",
    "| `ray_address`          | auto                           | The address of the Ray cluster. |\n",
    "\n",
    "\n",
    "### Arguments for text-based Interleaved Data Format\n",
    "Due to the large format diversity among different multimodal datasets, Data-Juicer proposes a novel intermediate text-based interleaved data format for multimodal datasets, which is based on chunk-wise formats such as the MMC4 dataset.\n",
    "\n",
    "In the Data-Juicer format, a multimodal sample or document is based on text, which consists of several text chunks. Each chunk is a semantic unit, and all the multimodal information in a chunk should talk about the same thing and be aligned with each other.\n",
    "\n",
    "You can modify these keys to suit your custom dataset.\n",
    "\n",
    "| Name                   | Value                          | Description                             |\n",
    "|------------------------|--------------------------------|----------------------------------------------------|\n",
    "| `text_keys`            | `text`                      | The key name of the field where the sample texts to be processed are located.|\n",
    "| `image_key`            | `images`                     | Key name of the field to store the list of sample image paths. |\n",
    "| `image_special_token`  | `<__dj__image>`              | The special token that represents an image in the text.     |\n",
    "| `audio_key`            | `audios`                     | Key name of the field to store the list of sample audio paths. |\n",
    "| `audio_special_token`  | `<__dj__audio>`              | The special token that represents audio in the text.        |\n",
    "| `video_key`            | `videos`                     | Key name of the field to store the list of sample video paths. |\n",
    "| `video_special_token`  | `<__dj__video>`              | The special token that represents a video in the text.      |\n",
    "| `eoc_special_token`    | `<\\|__dj__eoc\\|>`              | The special token that represents the end of a chunk in the text. |\n"
   ]
  },
  {
   "cell_type": "markdown",
   "id": "3673c074",
   "metadata": {},
   "source": [
    "\n",
    "### Arguments for Tracer\n",
    "\n",
    "Tracer is a very important and useful module within Data-Juicer; it can help you track changes before and after data processing, such as identifying which samples have been filtered out and which ones are duplicates.\n",
    "\n",
    "| Parameter Name         | Value                          | Description |\n",
    "|------------------------|--------------------------------|----------------------------|\n",
    "| `open_tracer`          | false                          | Whether to open the tracer to trace changes during processing. |\n",
    "| `op_list_to_trace`     | []                             | Only operations in this list will be traced by the tracer. |\n",
    "| `trace_num`            | 10                             | Number of samples to show the differences between datasets before and after each operation. |\n",
    "| `cache_compress`       | null                           | The compression method of the cache file. |"
   ]
  },
  {
   "cell_type": "markdown",
   "id": "e6e68074",
   "metadata": {},
   "source": [
    "## Reuseble Recipes\n",
    "\n",
    "Data-Juice offers tens of [pre-built data processing recipes](https://github.com/modelscope/data-juicer/blob/main/configs/data_juicer_recipes/README.md) for pre-training, fine-tuning, en, zh, and more scenarios.\n",
    "### Reproduced Redpajama\n",
    "\n",
    "We have reproduced the processing flow of some RedPajama datasets. Please refer to the [reproduced_redpajama](https://github.com/modelscope/data-juicer/blob/main/configs/reproduced_redpajama/README.md) folder for details.\n",
    "\n",
    "### Reproduced BLOOM\n",
    "\n",
    "We have reproduced the processing flow of some BLOOM datasets. please refer to the [reproduced_bloom](https://github.com/modelscope/data-juicer/blob/main/configs/reproduced_bloom/README.md) folder for details.\n",
    "\n",
    "### Data-Juicer Recipes\n",
    "We have refined some open source datasets (including CFT datasets) by using Data-Juicer and have provided configuration files for the refined flow. please refer to the [data_juicer_recipes](https://github.com/modelscope/data-juicer/blob/main/configs/data_juicer_recipes/README.md) folder for details.\n",
    "\n",
    "\n",
    "## Awesome LLM Data \n",
    "\n",
    "We provide a tag-based categorization to help readers easy diving into the myriad of materials, promoting an intuitive understanding of each entry's key focus areas. Soon we will provide a dynamic table of contents to help readers more easily navigate through the materials with features such as search, filter, and sort.\n",
    "\n",
    "For more detail, please refer to [Awesome LLM Data ](https://github.com/modelscope/data-juicer/blob/main/docs/awesome_llm_data.md)\n",
    "\n"
   ]
  }
 ],
 "metadata": {
  "kernelspec": {
   "display_name": "Python 3 (ipykernel)",
   "language": "python",
   "name": "python3"
  },
  "language_info": {
   "codemirror_mode": {
    "name": "ipython",
    "version": 3
   },
   "file_extension": ".py",
   "mimetype": "text/x-python",
   "name": "python",
   "nbconvert_exporter": "python",
   "pygments_lexer": "ipython3",
   "version": "3.10.11"
  }
 },
 "nbformat": 4,
 "nbformat_minor": 5
}
