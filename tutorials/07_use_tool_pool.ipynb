{
 "cells": [
  {
   "cell_type": "markdown",
   "metadata": {},
   "source": [
    "# Use Tool Pool"
   ]
  },
  {
   "cell_type": "markdown",
   "metadata": {},
   "source": [
    "## Dataset Format Conversion\n",
    "\n",
    "Data-Juicer contains a multitude of useful tools, especially offering numerous conversion utilities that transform public datasets into the Data-Juicer format.\n"
   ]
  },
  {
   "cell_type": "markdown",
   "metadata": {},
   "source": [
    "### LLaVA-like Dataset"
   ]
  },
  {
   "cell_type": "markdown",
   "id": "68689751",
   "metadata": {},
   "source": [
    "Below is a original sample in LLaVA format"
   ]
  },
  {
   "cell_type": "code",
   "execution_count": 11,
   "metadata": {},
   "outputs": [],
   "source": [
    "original_llava_data = \"\"\"\n",
    "[\n",
    "    {\n",
    "        \"from\":\"human\",\n",
    "        \"value\":\"sentry self hosted api 504\"\n",
    "    },\n",
    "    {\n",
    "        \"from\":\"gpt\",\n",
    "        \"text\":\"A 504 error when using the Sentry self-hosted API typically indicates that the API request timed out. This means that the server hosting the API did not receive a response from the client within the expected time frame.\\n\\nHere are a few possible reasons for a 504 error when using the Sentry self-hosted API:\\n\\nSlow network connection: The API request may be taking longer than expected due to a slow network connection. Check your network connection and try again.\\n\\nServer overload: The server hosting the API may be overloaded with requests. Try again later when the server load has decreased.\\n\\nLarge dataset: If you are trying to retrieve a large amount of data, the API request may take longer than expected. Try breaking up the request into smaller chunks or optimizing the query to retrieve only the necessary data.\\n\\nAPI endpoint issues: There may be issues with the specific API endpoint you are using. Try using a different endpoint or contact the Sentry support team for assistance.\\n\\nTo resolve a 504 error when using the Sentry self-hosted API, try the following:\\n\\nCheck your network connection and ensure that it is stable.\\n\\nVerify that the server hosting the API is not overloaded with requests.\\n\\nOptimize the query to retrieve only the necessary data.\\n\\nTry using a different API endpoint.\\n\\nIf the issue persists, contact the Sentry support team for assistance.\",\n",
    "        \"value\":\"A 504 error when using the Sentry self-hosted API typically indicates that the API request timed out. This means that the server hosting the API did not receive a response from the client within the expected time frame.\\n\\nHere are a few possible reasons for a 504 error when using the Sentry self-hosted API:\\n\\n1. Slow network connection: The API request may be taking longer than expected due to a slow network connection. Check your network connection and try again.\\n2. Server overload: The server hosting the API may be overloaded with requests. Try again later when the server load has decreased.\\n3. Large dataset: If you are trying to retrieve a large amount of data, the API request may take longer than expected. Try breaking up the request into smaller chunks or optimizing the query to retrieve only the necessary data.\\n4. API endpoint issues: There may be issues with the specific API endpoint you are using. Try using a different endpoint or contact the Sentry support team for assistance.\\n\\nTo resolve a 504 error when using the Sentry self-hosted API, try the following:\\n\\n1. Check your network connection and ensure that it is stable.\\n2. Verify that the server hosting the API is not overloaded with requests.\\n3. Optimize the query to retrieve only the necessary data.\\n4. Try using a different API endpoint.\\n\\nIf the issue persists, contact the Sentry support team for assistance.\",\n",
    "        \"markdown\":{\n",
    "            \"type\":\"answer-markdown\",\n",
    "            \"index\":1,\n",
    "            \"answer\":\"A 504 error when using the Sentry self-hosted API typically indicates that the API request timed out. This means that the server hosting the API did not receive a response from the client within the expected time frame.\\n\\nHere are a few possible reasons for a 504 error when using the Sentry self-hosted API:\\n\\n1. Slow network connection: The API request may be taking longer than expected due to a slow network connection. Check your network connection and try again.\\n\\n2. Server overload: The server hosting the API may be overloaded with requests. Try again later when the server load has decreased.\\n\\n3. Large dataset: If you are trying to retrieve a large amount of data, the API request may take longer than expected. Try breaking up the request into smaller chunks or optimizing the query to retrieve only the necessary data.\\n\\n4. API endpoint issues: There may be issues with the specific API endpoint you are using. Try using a different endpoint or contact the Sentry support team for assistance.\\n\\nTo resolve a 504 error when using the Sentry self-hosted API, try the following:\\n\\n1. Check your network connection and ensure that it is stable.\\n\\n2. Verify that the server hosting the API is not overloaded with requests.\\n\\n3. Optimize the query to retrieve only the necessary data.\\n\\n4. Try using a different API endpoint.\\n\\nIf the issue persists, contact the Sentry support team for assistance.\"\n",
    "        }\n",
    "    }\n",
    "]\n",
    "\"\"\"\n",
    "with open('llava.txt', 'w') as file:\n",
    "    file.write(original_llava_data)"
   ]
  },
  {
   "cell_type": "markdown",
   "id": "92648b2a",
   "metadata": {},
   "source": [
    "Now, we can convert it to Data-Juicer Format with `llava_to_dj.py`"
   ]
  },
  {
   "cell_type": "code",
   "execution_count": null,
   "metadata": {},
   "outputs": [],
   "source": [
    "%cd data-juicer\n",
    "!python tools/multimodal/source_format_to_data_juicer_format/llava_to_dj.py --llava_ds_path llava.txt --target_ds_path dj.txt\n",
    "!cat llava.txt\n",
    "!cat dj.txt"
   ]
  },
  {
   "cell_type": "markdown",
   "id": "580c5ed1",
   "metadata": {},
   "source": [
    "After processing with Data-Juicer, it can be converted back into  LLaVA format, and used in the LLava training process."
   ]
  },
  {
   "cell_type": "code",
   "execution_count": null,
   "metadata": {},
   "outputs": [],
   "source": [
    "%cd data-juicer\n",
    "!python tools/multimodal/source_format_to_data_juicer_format/llava_to_dj.py --llava_ds_path dj.txt --target_ds_path llava.txt\n",
    "!cat dj.txt\n",
    "!cat llava.txt"
   ]
  },
  {
   "cell_type": "markdown",
   "id": "91654c17",
   "metadata": {},
   "source": [
    "More Tool demos are coming."
   ]
  }
 ],
 "metadata": {
  "kernelspec": {
   "display_name": "Python 3 (ipykernel)",
   "language": "python",
   "name": "python3"
  },
  "language_info": {
   "codemirror_mode": {
    "name": "ipython",
    "version": 3
   },
   "file_extension": ".py",
   "mimetype": "text/x-python",
   "name": "python",
   "nbconvert_exporter": "python",
   "pygments_lexer": "ipython3",
   "version": "3.10.13"
  }
 },
 "nbformat": 4,
 "nbformat_minor": 5
}
