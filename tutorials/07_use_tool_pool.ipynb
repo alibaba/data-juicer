{
 "cells": [
  {
   "cell_type": "markdown",
   "metadata": {},
   "source": [
    "# Use Tool Pool"
   ]
  },
  {
   "cell_type": "markdown",
   "metadata": {},
   "source": [
    "## Dataset Format Conversion\n",
    "\n",
    "Data-Juicer contains a multitude of useful tools, especially offering numerous conversion utilities that transform public datasets into the Data-Juicer format. The considered datasets include LLaVA-like dataset, MMC4 dataset, WacCaps dataset and so on. Please refer to [here](https://github.com/modelscope/data-juicer/blob/main/tools/multimodal/README.md) for more details."
   ]
  },
  {
   "cell_type": "markdown",
   "id": "8eb01c1f",
   "metadata": {},
   "source": [
    "First of all, `cd` into the Data-Juicer directory to use it as the working directory."
   ]
  },
  {
   "cell_type": "code",
   "execution_count": null,
   "id": "34dc4beb",
   "metadata": {},
   "outputs": [],
   "source": [
    "# change to your data-juicer directory.\n",
    "%cd ~/data-juicer "
   ]
  },
  {
   "cell_type": "markdown",
   "metadata": {},
   "source": [
    "### LLaVA-like Dataset for Example"
   ]
  },
  {
   "cell_type": "markdown",
   "id": "68689751",
   "metadata": {},
   "source": [
    "Below is a original sample in LLaVA format"
   ]
  },
  {
   "cell_type": "code",
   "execution_count": 11,
   "metadata": {},
   "outputs": [],
   "source": [
    "import json\n",
    "original_llava_data = [\n",
    "  {\n",
    "    \"id\": \"000000033471\",\n",
    "    \"image\": \"coco/train2017/000000033471.jpg\",\n",
    "    \"conversations\": [\n",
    "      {\n",
    "        \"from\": \"human\",\n",
    "        \"value\": \"<image>\\nWhat are the colors of the bus in the image?\"\n",
    "      },\n",
    "      {\n",
    "        \"from\": \"gpt\",\n",
    "        \"value\": \"The bus in the image is white and red.\"\n",
    "      },\n",
    "      {\n",
    "        \"from\": \"human\",\n",
    "        \"value\": \"What feature can be seen on the back of the bus?\"\n",
    "      },\n",
    "      {\n",
    "        \"from\": \"gpt\",\n",
    "        \"value\": \"The back of the bus features an advertisement.\"\n",
    "      },\n",
    "      {\n",
    "        \"from\": \"human\",\n",
    "        \"value\": \"Is the bus driving down the street or pulled off to the side?\"\n",
    "      },\n",
    "      {\n",
    "        \"from\": \"gpt\",\n",
    "        \"value\": \"The bus is driving down the street, which is crowded with people and other vehicles.\"\n",
    "      }\n",
    "    ]\n",
    "  }\n",
    "]\n",
    "\n",
    "with open('llava.json', 'w') as file:\n",
    "    file.write(json.dumps(original_llava_data, indent=2))"
   ]
  },
  {
   "cell_type": "markdown",
   "id": "92648b2a",
   "metadata": {},
   "source": [
    "Now, we can convert it to Data-Juicer Format with `llava_to_dj.py`"
   ]
  },
  {
   "cell_type": "code",
   "execution_count": null,
   "metadata": {},
   "outputs": [],
   "source": [
    "!python tools/multimodal/source_format_to_data_juicer_format/llava_to_dj.py --llava_ds_path llava.json --target_ds_path dj.jsonl\n",
    "dj_data = json.load(open('dj.jsonl', 'r'))\n",
    "\n",
    "print(json.dumps(dj_data, indent=2))"
   ]
  },
  {
   "cell_type": "markdown",
   "id": "580c5ed1",
   "metadata": {},
   "source": [
    "After processing with Data-Juicer, it can be converted back into  LLaVA format, and used in the LLava training process."
   ]
  },
  {
   "cell_type": "code",
   "execution_count": null,
   "metadata": {},
   "outputs": [],
   "source": [
    "!python tools/multimodal/data_juicer_format_to_target_format/dj_to_llava.py --dj_ds_path dj.jsonl --target_llava_ds_path llava.json\n",
    "dj_data = json.load(open('llava.json', 'r'))\n",
    "\n",
    "print(json.dumps(dj_data, indent=2))"
   ]
  },
  {
   "cell_type": "code",
   "execution_count": null,
   "metadata": {},
   "outputs": [],
   "source": [
    "!rm llava.json\n",
    "!rm dj.jsonl"
   ]
  },
  {
   "cell_type": "markdown",
   "id": "91654c17",
   "metadata": {},
   "source": [
    "## More Tool demos are coming."
   ]
  }
 ],
 "metadata": {
  "kernelspec": {
   "display_name": "Python 3 (ipykernel)",
   "language": "python",
   "name": "python3"
  },
  "language_info": {
   "codemirror_mode": {
    "name": "ipython",
    "version": 3
   },
   "file_extension": ".py",
   "mimetype": "text/x-python",
   "name": "python",
   "nbconvert_exporter": "python",
   "pygments_lexer": "ipython3",
   "version": "3.10.13"
  }
 },
 "nbformat": 4,
 "nbformat_minor": 5
}
