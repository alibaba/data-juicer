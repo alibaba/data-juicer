{
 "cells": [
  {
   "cell_type": "markdown",
   "id": "68c73019",
   "metadata": {},
   "source": [
    "# Gain Operator Insight\n",
    "\n",
    "\n",
    "Operators provided by Data-Juicer serve as the backbone for a variety of data operations, including modification, cleaning, filtering, and deduplication. \n",
    "\n",
    "\n",
    "In the following sections, we will run several Operators to gain a deeper understanding of Operators,and inspect the result.\n"
   ]
  },
  {
   "cell_type": "code",
   "execution_count": null,
   "id": "8f1f0079",
   "metadata": {
    "vscode": {
     "languageId": "plaintext"
    }
   },
   "outputs": [],
   "source": [
    "# Install data-juicer package if you are NOT in the Playground\n",
    "# !pip3 install py-data-juicer\n",
    "\n",
    "# Or use newest code of data-juicer\n",
    "# !pip install git+https://github.com/modelscope/data-juicer"
   ]
  },
  {
   "cell_type": "markdown",
   "id": "a3b5025a",
   "metadata": {},
   "source": [
    "### Mapper Operators\n",
    "\n",
    "A mapper operator is primarily used for editing, modifying, or enhancing functionality."
   ]
  },
  {
   "cell_type": "markdown",
   "id": "8ea2d771",
   "metadata": {
    "vscode": {
     "languageId": "plaintext"
    }
   },
   "source": [
    "\n",
    "We use `CleanIpMapper` to clean up IP address in text and we showcase two approaches."
   ]
  },
  {
   "cell_type": "code",
   "execution_count": null,
   "id": "59fb13c8",
   "metadata": {
    "vscode": {
     "languageId": "plaintext"
    }
   },
   "outputs": [],
   "source": [
    "from data_juicer.ops.mapper.clean_ip_mapper import CleanIpMapper\n",
    "op = CleanIpMapper()"
   ]
  },
  {
   "cell_type": "markdown",
   "id": "9d3348e4",
   "metadata": {
    "vscode": {
     "languageId": "plaintext"
    }
   },
   "source": [
    "-  Invoke op's process directly"
   ]
  },
  {
   "cell_type": "code",
   "execution_count": null,
   "id": "17e3dd11",
   "metadata": {
    "vscode": {
     "languageId": "plaintext"
    }
   },
   "outputs": [],
   "source": [
    "sample = [{'text': 'test of ip 234.128.124.123'}]\n",
    "out_sample = op.process(sample)\n",
    "print(out_sample['text'])"
   ]
  },
  {
   "cell_type": "markdown",
   "id": "bcfacf3a",
   "metadata": {},
   "source": [
    "-  Invoke op's process with datasets"
   ]
  },
  {
   "cell_type": "code",
   "execution_count": null,
   "id": "069f2c79",
   "metadata": {},
   "outputs": [],
   "source": [
    "from datasets import Dataset\n",
    "\n",
    "samples = [{'text': 'test of ip 234.128.124.123'}]\n",
    "ds = Dataset.from_list(samples)\n",
    "ds = ds.map(op.process)\n",
    "print(ds[0])"
   ]
  },
  {
   "cell_type": "markdown",
   "id": "7feaf200",
   "metadata": {},
   "source": [
    "### Filter Operators\n",
    "\n",
    "A filter operator is mainly used to filter out low-quality samples. Generally, a filter operator involves two steps:\n",
    "- Compute Statistical value\n",
    "- Compare  statistical value and threshold"
   ]
  },
  {
   "cell_type": "markdown",
   "id": "ec25e214",
   "metadata": {
    "vscode": {
     "languageId": "plaintext"
    }
   },
   "source": [
    "We show you how to use WordNumFilter to filter out samples whose number of words is not within the range of [3,10], that means, to discard samples with less than 3 or more than 10 words.\n"
   ]
  },
  {
   "cell_type": "code",
   "execution_count": null,
   "id": "f6f9f55b",
   "metadata": {},
   "outputs": [],
   "source": [
    "from datasets import Dataset\n",
    "\n",
    "samples = [\n",
    "    {'text': 'Data Juicer'}, \n",
    "    {'text': 'Welcome to Data Juicer Playground'}\n",
    "]\n",
    "ds = Dataset.from_list(samples)\n",
    "\n",
    "# add a new column to the dataset to store the statistical values of the filter operator.\n",
    "from data_juicer.utils.constant import Fields\n",
    "ds = ds.add_column(name=Fields.stats, column=[{}] * ds.num_rows)\n",
    "\n",
    "print(ds)\n",
    "print(f'Number of samples of input dataset : {len(ds)}')"
   ]
  },
  {
   "cell_type": "code",
   "execution_count": null,
   "id": "9dde50a9",
   "metadata": {},
   "outputs": [],
   "source": [
    "from data_juicer.ops.filter.word_num_filter import WordNumFilter\n",
    "op = WordNumFilter(\n",
    "    min_num=3, \n",
    "    max_num=10\n",
    ")"
   ]
  },
  {
   "cell_type": "code",
   "execution_count": null,
   "id": "55c07c08",
   "metadata": {},
   "outputs": [],
   "source": [
    "ds = ds.map(op.compute_stats)\n",
    "ds = ds.filter(op.process)\n",
    "\n",
    "print(ds)\n",
    "print(f'Number of samples of output dataset : {len(ds)}')"
   ]
  },
  {
   "cell_type": "markdown",
   "id": "99ce063e",
   "metadata": {},
   "source": [
    "### Deduplicator Operators\n",
    "\n",
    "A Deduplicator operator is mainly used to detects and removes duplicate samples. "
   ]
  },
  {
   "cell_type": "markdown",
   "id": "7b5f7681",
   "metadata": {},
   "source": [
    "Generally, a deduplicator operator involves two steps:\n",
    "- Compute hash values\n",
    "- Delete duplicate samples"
   ]
  },
  {
   "cell_type": "markdown",
   "id": "ca4370da",
   "metadata": {},
   "source": [
    "Here is a case-insensitive demo to deduplicate samples using exact matching (md5 hash)"
   ]
  },
  {
   "cell_type": "code",
   "execution_count": null,
   "id": "1391e28d",
   "metadata": {},
   "outputs": [],
   "source": [
    "from datasets import Dataset\n",
    "\n",
    "samples = [\n",
    "    {'text': 'welcome to data juicer playground'}, \n",
    "    {'text': 'Welcome to Data Juicer Playground'}\n",
    "]\n",
    "ds = Dataset.from_list(samples)\n",
    "\n",
    "print(ds)\n",
    "print(f'Number of samples of input dataset : {len(ds)}')"
   ]
  },
  {
   "cell_type": "code",
   "execution_count": null,
   "id": "4af63594",
   "metadata": {},
   "outputs": [],
   "source": [
    "from data_juicer.ops.deduplicator.document_deduplicator import DocumentDeduplicator\n",
    "op = DocumentDeduplicator(\n",
    "    lowercase = True\n",
    ")"
   ]
  },
  {
   "cell_type": "code",
   "execution_count": null,
   "id": "b09cc3fe",
   "metadata": {},
   "outputs": [],
   "source": [
    "ds = ds.map(op.compute_hash)\n",
    "ds, dup_pairs= op.process(ds, show_num=1)\n",
    "\n",
    "print(ds)\n",
    "print(f'Number of samples of output dataset : {len(ds)}')"
   ]
  },
  {
   "cell_type": "markdown",
   "id": "9f96f498",
   "metadata": {},
   "source": [
    "Print deduplicate samples"
   ]
  },
  {
   "cell_type": "code",
   "execution_count": null,
   "id": "203f4b01",
   "metadata": {},
   "outputs": [],
   "source": [
    "for key, dup_pair in dup_pairs.items():\n",
    "    print(f'Deduplicate hash value : {key}')\n",
    "    for sample in dup_pair:\n",
    "        print(sample)"
   ]
  },
  {
   "cell_type": "markdown",
   "id": "866d1bb4",
   "metadata": {},
   "source": [
    "More Operators demos are coming."
   ]
  }
 ],
 "metadata": {
  "language_info": {
   "name": "python"
  }
 },
 "nbformat": 4,
 "nbformat_minor": 5
}
