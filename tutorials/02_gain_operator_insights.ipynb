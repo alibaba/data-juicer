{
 "cells": [
  {
   "cell_type": "markdown",
   "id": "68c73019",
   "metadata": {},
   "source": [
    "# Gain Operator Insight\n",
    "\n",
    "\n",
    "Operators provided by Data-Juicer serve as the backbone for a variety of data operations, including modification, cleaning, filtering, and deduplication. \n",
    "\n",
    "\n",
    "In the following sections, we will run several Operators to gain a deeper understanding of Operators,and inspect the result.\n"
   ]
  },
  {
   "cell_type": "code",
   "execution_count": null,
   "id": "8f1f0079",
   "metadata": {
    "vscode": {
     "languageId": "plaintext"
    }
   },
   "outputs": [],
   "source": [
    "# Install data-juicer package if you are NOT in the Playground\n",
    "# !pip3 install py-data-juicer\n",
    "\n",
    "# Or use newest code of data-juicer\n",
    "# !pip install git+https://github.com/modelscope/data-juicer"
   ]
  },
  {
   "cell_type": "markdown",
   "id": "a3b5025a",
   "metadata": {},
   "source": [
    "### Mapper Operators\n",
    "\n",
    "A mapper operator is primarily used for editing, modifying, or enhancing functionality."
   ]
  },
  {
   "cell_type": "markdown",
   "id": "8ea2d771",
   "metadata": {
    "vscode": {
     "languageId": "plaintext"
    }
   },
   "source": [
    "\n",
    "We use `CleanIpMapper` to clean up IP address in text and we showcase two approaches."
   ]
  },
  {
   "cell_type": "code",
   "execution_count": null,
   "id": "59fb13c8",
   "metadata": {
    "vscode": {
     "languageId": "plaintext"
    }
   },
   "outputs": [],
   "source": [
    "from data_juicer.ops.mapper.clean_ip_mapper import CleanIpMapper\n",
    "op = CleanIpMapper()"
   ]
  },
  {
   "cell_type": "markdown",
   "id": "9d3348e4",
   "metadata": {
    "vscode": {
     "languageId": "plaintext"
    }
   },
   "source": [
    "-  Invoke op's process directly"
   ]
  },
  {
   "cell_type": "code",
   "execution_count": null,
   "id": "17e3dd11",
   "metadata": {
    "vscode": {
     "languageId": "plaintext"
    }
   },
   "outputs": [],
   "source": [
    "sample = [{'text': 'test of ip 11.22.33.44'}]\n",
    "out_sample = op.process(sample)\n",
    "\n",
    "print(out_sample)"
   ]
  },
  {
   "cell_type": "markdown",
   "id": "bcfacf3a",
   "metadata": {},
   "source": [
    "-  Invoke op's process with datasets"
   ]
  },
  {
   "cell_type": "code",
   "execution_count": null,
   "id": "069f2c79",
   "metadata": {},
   "outputs": [],
   "source": [
    "from datasets import Dataset\n",
    "\n",
    "samples = [{'text': 'test of ip 11.22.33.44'}]\n",
    "ds = Dataset.from_list(samples)\n",
    "out_ds = ds.map(op.process)\n",
    "\n",
    "for sample in out_ds:\n",
    "    print(sample)"
   ]
  },
  {
   "cell_type": "markdown",
   "id": "7feaf200",
   "metadata": {},
   "source": [
    "### Filter Operators\n",
    "\n",
    "A filter operator is mainly used to filter out low-quality samples."
   ]
  },
  {
   "cell_type": "markdown",
   "id": "ab772ed7",
   "metadata": {},
   "source": [
    "Generally, a filter operator involves two steps:\n",
    "- Compute Statistical value\n",
    "- Compare  statistical value and threshold"
   ]
  },
  {
   "cell_type": "markdown",
   "id": "ec25e214",
   "metadata": {
    "vscode": {
     "languageId": "plaintext"
    }
   },
   "source": [
    "We show you how to use WordNumFilter to filter out samples whose number of words is not within the range of [3,10], that means, to discard samples with less than 3 or more than 10 words.\n"
   ]
  },
  {
   "cell_type": "code",
   "execution_count": null,
   "id": "f6f9f55b",
   "metadata": {},
   "outputs": [],
   "source": [
    "from datasets import Dataset\n",
    "\n",
    "samples = [\n",
    "    {'text': 'Data Juicer'}, \n",
    "    {'text': 'Welcome to Data Juicer Playground'}\n",
    "]\n",
    "ds = Dataset.from_list(samples)\n",
    "\n",
    "# add a new column to the dataset to store the statistical values of the filter operator.\n",
    "from data_juicer.utils.constant import Fields\n",
    "ds = ds.add_column(name=Fields.stats, column=[{}] * ds.num_rows)\n",
    "\n",
    "print(ds)\n",
    "print(f'Number of samples of input dataset : {len(ds)}')"
   ]
  },
  {
   "cell_type": "code",
   "execution_count": null,
   "id": "9dde50a9",
   "metadata": {},
   "outputs": [],
   "source": [
    "from data_juicer.ops.filter.word_num_filter import WordNumFilter\n",
    "op = WordNumFilter(\n",
    "    min_num=3, \n",
    "    max_num=10\n",
    ")"
   ]
  },
  {
   "cell_type": "code",
   "execution_count": null,
   "id": "55c07c08",
   "metadata": {},
   "outputs": [],
   "source": [
    "ds = ds.map(op.compute_stats)\n",
    "\n",
    "for sample in ds:\n",
    "    print(sample)\n",
    "\n",
    "out_ds = ds.filter(op.process)\n",
    "\n",
    "print(out_ds)\n",
    "print(f'Number of samples of output dataset : {len(out_ds)}')\n",
    "for sample in out_ds:\n",
    "    print(sample)"
   ]
  },
  {
   "cell_type": "markdown",
   "id": "99ce063e",
   "metadata": {},
   "source": [
    "### Deduplicator Operators\n",
    "\n",
    "A deduplicator operator is mainly used to detects and removes duplicate samples. "
   ]
  },
  {
   "cell_type": "markdown",
   "id": "7b5f7681",
   "metadata": {},
   "source": [
    "Generally, a deduplicator operator involves two steps:\n",
    "- Compute hash values\n",
    "- Delete duplicate samples"
   ]
  },
  {
   "cell_type": "markdown",
   "id": "ca4370da",
   "metadata": {},
   "source": [
    "Here is a case-insensitive demo to deduplicate samples using exact matching (md5 hash)"
   ]
  },
  {
   "cell_type": "code",
   "execution_count": null,
   "id": "1391e28d",
   "metadata": {},
   "outputs": [],
   "source": [
    "from datasets import Dataset\n",
    "\n",
    "samples = [\n",
    "    {'text': 'welcome to data juicer playground'}, \n",
    "    {'text': 'Welcome to Data Juicer Playground'}\n",
    "]\n",
    "ds = Dataset.from_list(samples)\n",
    "\n",
    "print(ds)\n",
    "print(f'Number of samples of input dataset : {len(ds)}')"
   ]
  },
  {
   "cell_type": "code",
   "execution_count": null,
   "id": "4af63594",
   "metadata": {},
   "outputs": [],
   "source": [
    "from data_juicer.ops.deduplicator.document_deduplicator import DocumentDeduplicator\n",
    "op = DocumentDeduplicator(lowercase=True)"
   ]
  },
  {
   "cell_type": "code",
   "execution_count": null,
   "id": "b09cc3fe",
   "metadata": {},
   "outputs": [],
   "source": [
    "ds = ds.map(op.compute_hash)\n",
    "out_ds, dup_pairs= op.process(ds, show_num=1)\n",
    "\n",
    "print(out_ds)\n",
    "print(f'Number of samples of output dataset : {len(out_ds)}')\n",
    "for sample in out_ds:\n",
    "    print(sample)"
   ]
  },
  {
   "cell_type": "markdown",
   "id": "9f96f498",
   "metadata": {},
   "source": [
    "Print deduplicate samples"
   ]
  },
  {
   "cell_type": "code",
   "execution_count": null,
   "id": "203f4b01",
   "metadata": {},
   "outputs": [],
   "source": [
    "for key, dup_pair in dup_pairs.items():\n",
    "    print(f'Deduplicate hash value : {key}')\n",
    "    for sample in dup_pair:\n",
    "        print(sample)"
   ]
  },
  {
   "cell_type": "markdown",
   "id": "51e6fb20",
   "metadata": {},
   "source": [
    "### Selector Operators\n",
    "\n",
    "A selector operator is mainly used to selects top samples based on ranking. It is primarily used to perform statistical analysis on a specific field of a dataset. For instance, it can select the top k samples with the highest frequency, or to choose a portion of samples with the highest proportion.\n"
   ]
  },
  {
   "cell_type": "markdown",
   "id": "65069e05",
   "metadata": {},
   "source": [
    "First we construct a dataset with 5 samples, and use selector operator to select the top 2 samples based on `meta.count`.\n"
   ]
  },
  {
   "cell_type": "code",
   "execution_count": null,
   "id": "15d9f228",
   "metadata": {},
   "outputs": [],
   "source": [
    "from datasets import Dataset\n",
    "\n",
    "samples = [{\n",
    "            'text': 'Today is Sun', \n",
    "            'meta': {'count': 5 }\n",
    "        }, {\n",
    "            'text': 'a v s e c s f e f g a a a  ',\n",
    "            'meta': {'count': 23 }\n",
    "        }, {\n",
    "            'text': '，。、„”“«»１」「《》´∶：？！',\n",
    "            'meta': { 'count': 48 }\n",
    "        }, {\n",
    "            'text': '他的英文名字叫Harry Potter',\n",
    "            'meta': { 'count': 78 }\n",
    "        }, {\n",
    "            'text': '这是一个测试',\n",
    "            'meta': { 'count': 3 }\n",
    "        }]\n",
    "ds = Dataset.from_list(samples)\n",
    "\n",
    "print(ds)\n",
    "print(f'Number of samples of input dataset : {len(ds)}')"
   ]
  },
  {
   "cell_type": "code",
   "execution_count": null,
   "id": "e06c5094",
   "metadata": {},
   "outputs": [],
   "source": [
    "from data_juicer.ops.selector.topk_specified_field_selector import TopkSpecifiedFieldSelector\n",
    "\n",
    "op = TopkSpecifiedFieldSelector(field_key='meta.count', topk=2)"
   ]
  },
  {
   "cell_type": "code",
   "execution_count": null,
   "id": "371439e7",
   "metadata": {},
   "outputs": [],
   "source": [
    "out_ds = op.process(ds)\n",
    "\n",
    "print(out_ds)\n",
    "print(f'Number of samples of output dataset : {len(out_ds)}')\n",
    "for sample in out_ds:\n",
    "    print(sample)"
   ]
  },
  {
   "cell_type": "markdown",
   "id": "0a5fd935",
   "metadata": {},
   "source": [
    "### Multimodel Demos\n",
    "\n",
    "Data-Juicer now supplies a lot of operators to process **multimodal** data.\n",
    "\n",
    "**Note**\n",
    "\n",
    "\n",
    "The input dataset must adhere to the Data-Juicer format, characterized by a text-centric, multi-chunk structure interspersed with special tokens. \n",
    "\n",
    "Additionally, we offer a suite of multimodal tools designed to facilitate conversion between other formats and the Data-Juicer format.\n"
   ]
  },
  {
   "cell_type": "markdown",
   "id": "1526f6ef",
   "metadata": {},
   "source": [
    "Here we use test data from Data-Juicer to to show you how to construct your dataset and how to use process multimodel data. "
   ]
  },
  {
   "cell_type": "code",
   "execution_count": null,
   "id": "3ff4eaf7",
   "metadata": {},
   "outputs": [],
   "source": [
    "import os\n",
    "data_juicer_path = './data-juicer'  # change to your data-juicer directory\n",
    "data_path = os.path.join(data_juicer_path, 'tests/ops/data')"
   ]
  },
  {
   "cell_type": "markdown",
   "id": "8caabde9",
   "metadata": {},
   "source": [
    "- #### Image-Text Dataset\n",
    "\n",
    "Generally speaking, most multimodal datasets consist of at least two modalities."
   ]
  },
  {
   "cell_type": "code",
   "execution_count": null,
   "id": "5b85859f",
   "metadata": {},
   "outputs": [],
   "source": [
    "import os\n",
    "from datasets import Dataset\n",
    "from data_juicer.utils.mm_utils import SpecialTokens\n",
    "\n",
    "cat_path = os.path.join(data_path, 'cat.jpg')\n",
    "\n",
    "samples = [{\n",
    "            'text': f'{SpecialTokens.image}a photo of a cat',  # 0.2457006871700287\n",
    "            'images': [cat_path]\n",
    "        }, {\n",
    "            'text': f'{SpecialTokens.image}a photo of a dog',  # 0.19304907321929932\n",
    "            'images': [cat_path]\n",
    "        }]\n",
    "ds = Dataset.from_list(samples)\n",
    "\n",
    "# add a new column to the dataset to store the statistical values of the filter operator.\n",
    "from data_juicer.utils.constant import Fields\n",
    "ds = ds.add_column(name=Fields.stats, column=[{}] * ds.num_rows)\n",
    "\n",
    "print(ds)\n",
    "print(f'Number of samples of input dataset : {len(ds)}')"
   ]
  },
  {
   "cell_type": "markdown",
   "id": "7308f2bb",
   "metadata": {},
   "source": [
    "During the initialization of `ImageTextSimilarityFilter` operator, we need to load the `openai/clip-vit-base-patch32` model, and we must wait and ensure it is successfully loaded."
   ]
  },
  {
   "cell_type": "code",
   "execution_count": null,
   "id": "d526e147",
   "metadata": {},
   "outputs": [],
   "source": [
    "from data_juicer.ops.filter.image_text_similarity_filter import ImageTextSimilarityFilter\n",
    "op = ImageTextSimilarityFilter(\n",
    "    hf_clip = 'openai/clip-vit-base-patch32',\n",
    "    min_score=0.2,\n",
    "    max_score=0.9\n",
    ")"
   ]
  },
  {
   "cell_type": "code",
   "execution_count": null,
   "id": "ea34ce87",
   "metadata": {},
   "outputs": [],
   "source": [
    "ds = ds.map(op.compute_stats)\n",
    "\n",
    "for sample in ds:\n",
    "    print(sample)\n",
    "\n",
    "out_ds = ds.filter(op.process)\n",
    "\n",
    "print(out_ds)\n",
    "print(f'Number of samples of output dataset : {len(out_ds)}')\n",
    "for sample in out_ds:\n",
    "    print(sample)"
   ]
  },
  {
   "cell_type": "markdown",
   "id": "98fdcad1",
   "metadata": {},
   "source": [
    "- #### Image-Only Dataset\n",
    "\n",
    "However, sometimes we may want to process multidomain datasets based on a single modality or work with single-modal datasets."
   ]
  },
  {
   "cell_type": "code",
   "execution_count": null,
   "id": "269b79cf",
   "metadata": {},
   "outputs": [],
   "source": [
    "import os\n",
    "from datasets import Dataset\n",
    "\n",
    "img1_path = os.path.join(data_path, 'img1.png') # 336*336\n",
    "img2_path = os.path.join(data_path, 'img2.jpg') # 640*480\n",
    "img3_path = os.path.join(data_path, 'img3.jpg') # 342*500\n",
    "\n",
    "samples = [{\n",
    "            'images': [img1_path]\n",
    "        }, {\n",
    "            'images': [img2_path]\n",
    "        }, {\n",
    "            'images': [img3_path]\n",
    "        }]\n",
    "ds = Dataset.from_list(samples)\n",
    "\n",
    "# add a new column to the dataset to store the statistical values of the filter operator.\n",
    "from data_juicer.utils.constant import Fields\n",
    "ds = ds.add_column(name=Fields.stats, column=[{}] * ds.num_rows)\n",
    "\n",
    "print(ds)\n",
    "print(f'Number of samples of input dataset : {len(ds)}')"
   ]
  },
  {
   "cell_type": "code",
   "execution_count": null,
   "id": "f688478c",
   "metadata": {},
   "outputs": [],
   "source": [
    "from data_juicer.ops.filter.image_shape_filter import ImageShapeFilter\n",
    "op = ImageShapeFilter(\n",
    "    min_width=400, \n",
    "    min_height=400\n",
    ")"
   ]
  },
  {
   "cell_type": "code",
   "execution_count": null,
   "id": "93aea41c",
   "metadata": {},
   "outputs": [],
   "source": [
    "ds = ds.map(op.compute_stats)\n",
    "\n",
    "for sample in ds:\n",
    "    print(sample)\n",
    "\n",
    "out_ds = ds.filter(op.process)\n",
    "\n",
    "print(out_ds)\n",
    "print(f'Number of samples of output dataset : {len(out_ds)}')\n",
    "for sample in out_ds:\n",
    "    print(sample)"
   ]
  },
  {
   "cell_type": "markdown",
   "id": "6b35b19f",
   "metadata": {},
   "source": [
    "Please refer to [[*DJ-SORA*]](https://github.com/modelscope/data-juicer/blob/main/docs/DJ_SORA.md)  and [[*Multimodal Converting*]](https://github.com/modelscope/data-juicer/blob/main/tools/multimodal/README.md)for more details."
   ]
  }
 ],
 "metadata": {
  "language_info": {
   "name": "python"
  }
 },
 "nbformat": 4,
 "nbformat_minor": 5
}
