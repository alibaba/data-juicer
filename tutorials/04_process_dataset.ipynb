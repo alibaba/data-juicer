{
 "cells": [
  {
   "cell_type": "markdown",
   "id": "68647c59",
   "metadata": {},
   "source": [
    "# Process Data\n",
    "\n",
    "This tutorial demonstrates how to use given data_recipes to process data using Data-Juicer."
   ]
  },
  {
   "cell_type": "markdown",
   "id": "c335b697",
   "metadata": {},
   "source": [
    "To process data using data-juicer run process_data.py tool with your config as the argument to process your dataset.\n",
    "\n",
    "``` shell\n",
    "python tools/process_data.py --config configs/demo/process.yaml\n",
    "```\n",
    "\n",
    "The [configs/demo/process.yaml](https://github.com/modelscope/data-juicer/blob/main/configs/demo/process.yaml) here is the given data_recipes."
   ]
  },
  {
   "cell_type": "code",
   "execution_count": null,
   "id": "70830bc7",
   "metadata": {},
   "outputs": [],
   "source": [
    "# You can run this in you CLI\n",
    "data_juicer_path = '..'\n",
    "%cd {data_juicer_path}\n",
    "!python tools/process_data.py --config configs/demo/process.yaml"
   ]
  },
  {
   "cell_type": "markdown",
   "id": "d049031c",
   "metadata": {},
   "source": [
    "The [process_data.py](https://github.com/modelscope/data-juicer/blob/main/tools/process_data.py) will call the executor.run() method to process the data.\n",
    "\n",
    "``` python\n",
    "# tools/process_data.py\n",
    "\n",
    "from data_juicer.config import init_configs\n",
    "from data_juicer.core import Executor\n",
    "\n",
    "@logger.catch\n",
    "def main():\n",
    "    cfg = init_configs()\n",
    "    # We run the single Executor here to process data using the given cfg\n",
    "    if cfg.executor_type == 'default':\n",
    "        executor = Executor(cfg)\n",
    "    executor.run()\n",
    "\n",
    "\n",
    "if __name__ == '__main__':\n",
    "    main()\n",
    "\n",
    "```\n"
   ]
  },
  {
   "cell_type": "markdown",
   "id": "431e3be2",
   "metadata": {},
   "source": [
    "Below we provide simple examples to show how the data is processed. "
   ]
  },
  {
   "cell_type": "code",
   "execution_count": null,
   "id": "fba9af8a",
   "metadata": {},
   "outputs": [],
   "source": [
    "# we init the corresponding config\n",
    "from loguru import logger\n",
    "from data_juicer.config import init_configs\n",
    "cfg = init_configs(['--config', 'configs/demo/process.yaml'])"
   ]
  },
  {
   "cell_type": "code",
   "execution_count": null,
   "id": "83c9582f",
   "metadata": {},
   "outputs": [],
   "source": [
    "from data_juicer.core import Executor\n",
    "executor = Executor(cfg)\n",
    "dataset = executor.run()"
   ]
  },
  {
   "cell_type": "markdown",
   "id": "e89ce4d1",
   "metadata": {},
   "source": [
    "Now, we explain the key executor.run() method in [executor.py](https://github.com/modelscope/data-juicer/blob/main/data_juicer/core/executor.py) step by step."
   ]
  },
  {
   "cell_type": "markdown",
   "id": "5895325d",
   "metadata": {},
   "source": [
    "First the method will load and format the data.\n",
    "\n",
    "We can load dataset from check point in previous run, or load dataset from data formatter.\n",
    "\n",
    "``` python \n",
    "    def run(self, load_data_np=None):\n",
    "        ...\n",
    "        # 1. format data\n",
    "        if self.cfg.use_checkpoint and self.ckpt_manager.ckpt_available:\n",
    "            logger.info('Loading dataset from checkpoint...')\n",
    "            dataset = self.ckpt_manager.load_ckpt()\n",
    "        else:\n",
    "            logger.info('Loading dataset from data formatter...')\n",
    "            if load_data_np is None:\n",
    "                load_data_np = self.cfg.np\n",
    "        dataset = self.formatter.load_dataset(load_data_np, self.cfg)\n",
    "        ...\n",
    "```\n",
    "\n",
    "You can run the code below to see the dataset here interactively."
   ]
  },
  {
   "cell_type": "code",
   "execution_count": 3,
   "id": "23c8a53f",
   "metadata": {},
   "outputs": [
    {
     "data": {
      "text/plain": [
       "Dataset({\n",
       "    features: ['text', 'meta'],\n",
       "    num_rows: 6\n",
       "})"
      ]
     },
     "execution_count": 3,
     "metadata": {},
     "output_type": "execute_result"
    }
   ],
   "source": [
    "loaded_dataset = executor.formatter.load_dataset(cfg.np, cfg)\n",
    "loaded_dataset"
   ]
  },
  {
   "cell_type": "markdown",
   "id": "d2ac6c85",
   "metadata": {},
   "source": [
    "Then the method will load the operators from the given cfg file process fields.\n",
    "\n",
    "``` python\n",
    "\n",
    "    def run(self, load_data_np = None)\n",
    "        ...\n",
    "        # 2. extract processes\n",
    "        logger.info('Preparing process operators...')\n",
    "        self.process_list, self.ops = load_ops(self.cfg.process,\n",
    "                                               self.cfg.op_fusion)\n",
    "        ...\n",
    "\n",
    "```\n",
    "\n",
    "You can run the code below to see the process_list and ops."
   ]
  },
  {
   "cell_type": "code",
   "execution_count": 4,
   "id": "3efb2667",
   "metadata": {},
   "outputs": [
    {
     "data": {
      "text/plain": [
       "[{'language_id_score_filter': {'lang': 'zh',\n",
       "   'min_score': 0.8,\n",
       "   'text_key': 'text',\n",
       "   'image_key': 'images',\n",
       "   'audio_key': 'audios',\n",
       "   'video_key': 'videos'}}]"
      ]
     },
     "execution_count": 4,
     "metadata": {},
     "output_type": "execute_result"
    }
   ],
   "source": [
    "process_list = executor.process_list\n",
    "process_list"
   ]
  },
  {
   "cell_type": "code",
   "execution_count": 5,
   "id": "d174214c",
   "metadata": {},
   "outputs": [
    {
     "data": {
      "text/plain": [
       "[<data_juicer.ops.filter.language_id_score_filter.LanguageIDScoreFilter at 0x2e31f1be0>]"
      ]
     },
     "execution_count": 5,
     "metadata": {},
     "output_type": "execute_result"
    }
   ],
   "source": [
    "ops = executor.ops\n",
    "ops"
   ]
  },
  {
   "cell_type": "markdown",
   "id": "e6a93837",
   "metadata": {},
   "source": [
    "According to the loaded self.process_list and self.ops, the method will apply op functions to data, we use the mapper/filter function as examples.\n",
    "\n",
    "``` python\n",
    "    def run():\n",
    "        ...\n",
    "        # 3. data process\n",
    "        # - If tracer is open, trace each op after it's processed\n",
    "        # - If checkpoint is open, clean the cache files after each process\n",
    "        logger.info('Processing data...')\n",
    "        ...\n",
    "        for op_cfg, op in zip(self.process_list, self.ops):\n",
    "            op_name, op_args = list(op_cfg.items())[0]\n",
    "            if isinstance(op, Mapper):\n",
    "                dataset = dataset.map(op.process)\n",
    "            ...\n",
    "            elif isinstance(op, Filter):\n",
    "                ...\n",
    "                dataset = dataset.map(op.compute_stats)\n",
    "                dataset = dataset.filter(op.process) \n",
    "            ...\n",
    "        ...\n",
    "```\n",
    "\n",
    "Here, all data samples are processed through the list of ops."
   ]
  },
  {
   "cell_type": "markdown",
   "id": "5d018e04",
   "metadata": {},
   "source": [
    "After all the ops are processed, the method will dump the dataset to according to the given export path.\n",
    "\n",
    "``` python\n",
    "    def run():\n",
    "        ...\n",
    "        # 4. data export\n",
    "        logger.info('Exporting dataset to disk...')\n",
    "        self.exporter.export(dataset)\n",
    "        ...\n",
    "```"
   ]
  },
  {
   "cell_type": "markdown",
   "id": "d20989dc",
   "metadata": {},
   "source": [
    "You can check the process dataset in the export path in [configs/demo/process.yaml](https://github.com/modelscope/data-juicer/blob/main/configs/demo/process.yaml)\n",
    "\n",
    "``` yaml\n",
    "export_path: './outputs/demo-process/demo-processed.jsonl'\n",
    "```"
   ]
  },
  {
   "cell_type": "code",
   "execution_count": 6,
   "id": "26364074",
   "metadata": {},
   "outputs": [
    {
     "data": {
      "text/plain": [
       "Dataset({\n",
       "    features: ['text', 'meta', '__dj__stats__'],\n",
       "    num_rows: 2\n",
       "})"
      ]
     },
     "execution_count": 6,
     "metadata": {},
     "output_type": "execute_result"
    }
   ],
   "source": [
    "# the exported dataset after run\n",
    "dataset"
   ]
  }
 ],
 "metadata": {
  "kernelspec": {
   "display_name": "Python 3 (ipykernel)",
   "language": "python",
   "name": "python3"
  },
  "language_info": {
   "codemirror_mode": {
    "name": "ipython",
    "version": 3
   },
   "file_extension": ".py",
   "mimetype": "text/x-python",
   "name": "python",
   "nbconvert_exporter": "python",
   "pygments_lexer": "ipython3",
   "version": "3.9.18"
  }
 },
 "nbformat": 4,
 "nbformat_minor": 5
}
